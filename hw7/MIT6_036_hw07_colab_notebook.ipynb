{
 "nbformat": 4,
 "nbformat_minor": 0,
 "metadata": {
  "colab": {
   "provenance": []
  },
  "kernelspec": {
   "name": "python3",
   "display_name": "Python 3"
  }
 },
 "cells": [
  {
   "cell_type": "markdown",
   "metadata": {
    "id": "_xIaEwCD406A",
    "pycharm": {
     "name": "#%% md\n"
    }
   },
   "source": [
    "#MIT 6.036 Spring 2019: Homework 7#\n",
    "\n",
    "This colab notebook provides code and a framework for problem 2 of [the homework](https://openlearninglibrary.mit.edu/courses/course-v1:MITx+6.036+1T2019/courseware/Week7/week7_homework/).  You can work out your solutions here, then submit your results back on the homework page when ready.\n",
    "\n",
    "## <section>**Setup**</section>\n",
    "\n",
    "First, download the code distribution for this homework that contains test cases and helper functions.\n",
    "\n",
    "Run the next code block to download and import the code for this lab.\n"
   ]
  },
  {
   "cell_type": "code",
   "metadata": {
    "id": "2YM-_zLf9Bp-",
    "colab": {
     "base_uri": "https://localhost:8080/",
     "height": 408
    },
    "outputId": "849dbafd-f0a6-49a4-fcd8-b1eb935e85e9",
    "pycharm": {
     "name": "#%%\n"
    }
   },
   "source": [
    "from   hw7code import *\n",
    "import numpy as np\n",
    "import  modules_disp as disp"
   ],
   "execution_count": 44,
   "outputs": []
  },
  {
   "cell_type": "markdown",
   "metadata": {
    "id": "xFxhrJ5XDlvb",
    "pycharm": {
     "name": "#%% md\n"
    }
   },
   "source": [
    "# 2) Implementing Neural Networks\n",
    "\n",
    "This homework considers neural networks with multiple layers. Each layer has multiple inputs and outputs, and can be broken down into two parts:\n",
    "\n",
    "<br>\n",
    "A linear module that implements a linear transformation:     $ z_j = (\\sum^{m}_{i=1} x_i W_{i,j}) + {W_0}_jz$\n",
    "\n",
    "specified by a weight matrix $W$ and a bias vector $W_0$. The output is $[z_1, \\ldots, z_n]^T$\n",
    "\n",
    "<br>\n",
    "An activation module that applies an activation function to the outputs of the linear module for some activation function $f$, such as Tanh or ReLU in the hidden layers or Softmax (see below) at the output layer. We write the output as: $[f(z_1), \\ldots, f(z_m)]^T$, although technically, for some activation functions such as softmax, each output will depend on all the $z_i$."
   ]
  },
  {
   "cell_type": "markdown",
   "metadata": {
    "id": "MjQgtwPHj08n",
    "pycharm": {
     "name": "#%% md\n"
    }
   },
   "source": [
    "We'll use the modular implementation that we guided you through in the previous problem, which leads to clean code. The basic framework for SGD training is given below. We can construct a network and train it as follows:\n",
    "\n",
    "```\n",
    "# build a 3-layer network\n",
    "net = Sequential([Linear(2,3), Tanh(),\n",
    "                  Linear(3,3), Tanh(),\n",
    "    \t          Linear(3,2), SoftMax()])\n",
    "# train the network on data and labels\n",
    "net.sgd(X, Y)\n",
    "```\n",
    "Please fill in any unimplemented methods below:"
   ]
  },
  {
   "cell_type": "markdown",
   "metadata": {
    "id": "cEwpgsbnho9K",
    "pycharm": {
     "name": "#%% md\n"
    }
   },
   "source": [
    "## Linear Modules: ##\n",
    "Each linear module has a forward method that takes in a batch of activations A (from the previous layer) and returns a batch of pre-activations Z.\n",
    "\n",
    "Each linear module has a backward method that takes in dLdZ and returns dLdA. This module also computes and stores dLdW and dLdW0, the gradients with respect to the weights."
   ]
  },
  {
   "cell_type": "code",
   "metadata": {
    "id": "-VsYLAxCfy7U",
    "pycharm": {
     "name": "#%%\n"
    }
   },
   "source": [
    "class Linear(Module):\n",
    "    def __init__(self, m, n):\n",
    "        self.m, self.n = (m, n)  # (in size, out size)\n",
    "        self.W0 = np.zeros([self.n, 1])  # (n x 1)\n",
    "        self.W = np.random.normal(0, 1.0 * m ** (-.5), [m, n])  # (m x n)\n",
    "\n",
    "    def forward(self, A):\n",
    "        self.A = A   # (m x b)  Hint: make sure you understand what b stands for\n",
    "        return  self.W.T@A+self.W0 # Your code (n x b)\n",
    "\n",
    "    def backward(self, dLdZ):  # dLdZ is (n x b), uses stored self.A\n",
    "        self.dLdW  = self.A @ dLdZ.T  # Your code\n",
    "        self.dLdW0 =  dLdZ@np.ones((self.A.shape[1],1)) # Your code\n",
    "        return self.W@dLdZ        # Your code: return dLdA (m x b)\n",
    "\n",
    "    def sgd_step(self, lrate):  # Gradient descent step\n",
    "        self.W  = self.W-lrate*self.dLdW # Your code\n",
    "        self.W0 = self.W0-lrate*self.dLdW0 # Your code"
   ],
   "execution_count": 45,
   "outputs": []
  },
  {
   "cell_type": "markdown",
   "metadata": {
    "id": "cqZ7_kZYr5s5",
    "pycharm": {
     "name": "#%% md\n"
    }
   },
   "source": [
    " You are encouraged to make your own tests for each module. A unit test method and an example test case are given below for your reference:"
   ]
  },
  {
   "cell_type": "code",
   "metadata": {
    "id": "aY3yePY0r4eA",
    "pycharm": {
     "name": "#%%\n"
    }
   },
   "source": [
    "np.random.seed(0)\n",
    "\n",
    "# data\n",
    "X, Y = super_simple_separable()\n",
    "\n",
    "# module\n",
    "linear_1 = Linear(2, 3)\n",
    "\n",
    "#hyperparameters\n",
    "lrate = 0.005\n",
    "\n",
    "# test case\n",
    "# forward\n",
    "z_1 = linear_1.forward(X)\n",
    "exp_z_1 =  np.array([[10.41750064, 6.91122168, 20.73366505, 22.8912344],\n",
    "                     [7.16872235, 3.48998746, 10.46996239, 9.9982611],\n",
    "                     [-2.07105455, 0.69413716, 2.08241149, 4.84966811]])\n",
    "unit_test(\"linear_forward\", exp_z_1, z_1)\n",
    "\n",
    "# backward\n",
    "dL_dz1 = np.array([[1.69467553e-09, -1.33530535e-06, 0.00000000e+00, -0.00000000e+00],\n",
    "                                     [-5.24547376e-07, 5.82459519e-04, -3.84805202e-10, 1.47943038e-09],\n",
    "                                     [-3.47063705e-02, 2.55611604e-01, -1.83538094e-02, 1.11838432e-04]])\n",
    "exp_dLdX = np.array([[-2.40194628e-02, 1.77064845e-01, -1.27021626e-02, 7.74006953e-05],\n",
    "                                    [2.39827939e-02, -1.75870737e-01, 1.26832126e-02, -7.72828555e-05]])\n",
    "dLdX = linear_1.backward(dL_dz1)\n",
    "unit_test(\"linear_backward\", exp_dLdX, dLdX)\n",
    "\n",
    "# sgd step\n",
    "linear_1.sgd_step(lrate)\n",
    "exp_linear_1_W = np.array([[1.2473734,  0.28294514,  0.68940437],\n",
    "                           [1.58455079, 1.32055711, -0.69218045]]),\n",
    "unit_test(\"linear_sgd_step_W\",  exp_linear_1_W,  linear_1.W)\n",
    "\n",
    "exp_linear_1_W0 = np.array([[6.66805339e-09],\n",
    "                            [-2.90968033e-06],\n",
    "                            [-1.01331631e-03]]),\n",
    "unit_test(\"linear_sgd_step_W0\", exp_linear_1_W0, linear_1.W0)\n"
   ],
   "execution_count": 46,
   "outputs": [
    {
     "name": "stdout",
     "output_type": "stream",
     "text": [
      "linear_forward: OK\n",
      "linear_backward: OK\n",
      "linear_sgd_step_W: OK\n",
      "linear_sgd_step_W0: OK\n"
     ]
    }
   ]
  },
  {
   "cell_type": "markdown",
   "metadata": {
    "id": "2ETL01mPsBz4",
    "pycharm": {
     "name": "#%% md\n"
    }
   },
   "source": [
    "The following datasets are defined for your use:\n",
    "*  `super_simple_separable_through_origin()`\n",
    "*  `super_simple_separable()`\n",
    "*  `xor()`\n",
    "*  `xor_more()`\n",
    "*  `hard()`\n",
    "\n",
    "Further, a plotting function is defined for your usage in modules_disp.py, and can be called in the colab notebook as `disp.plot_nn()`.\n",
    "```\n",
    "def plot_nn(X, Y, nn):\n",
    "    \"\"\" Plot output of nn vs. data \"\"\"\n",
    "    def predict(x):\n",
    "        return nn.modules[-1].class_fun(nn.forward(x))[0]\n",
    "    xmin, ymin = np.min(X, axis=1)-1\n",
    "    xmax, ymax = np.max(X, axis=1)+1\n",
    "    nax = plot_objective_2d(lambda x: predict(x), xmin, xmax, ymin, ymax)\n",
    "    plot_data(X, Y, nax)\n",
    "    plt.show()```\n"
   ]
  },
  {
   "cell_type": "code",
   "execution_count": 46,
   "outputs": [],
   "source": [],
   "metadata": {
    "collapsed": false,
    "pycharm": {
     "name": "#%%\n"
    }
   }
  },
  {
   "cell_type": "markdown",
   "metadata": {
    "id": "4s70beWJh09h",
    "pycharm": {
     "name": "#%% md\n"
    }
   },
   "source": [
    "## Activation functions: ##\n",
    "Each activation module has a forward method that takes in a batch of pre-activations Z and returns a batch of activations A.\n",
    "\n",
    "Each activation module has a backward method that takes in dLdA and returns dLdZ, with the exception of SoftMax, where we assume dLdZ is passed in."
   ]
  },
  {
   "cell_type": "markdown",
   "metadata": {
    "id": "kwaNAtLnhenT",
    "pycharm": {
     "name": "#%% md\n"
    }
   },
   "source": [
    "### Tanh: ###"
   ]
  },
  {
   "cell_type": "code",
   "metadata": {
    "id": "ff6eD3dnftiR",
    "pycharm": {
     "name": "#%%\n"
    }
   },
   "source": [
    "class Tanh(Module):            # Layer activation\n",
    "    def forward(self, Z):\n",
    "        self.A = np.tanh(Z)\n",
    "        return self.A\n",
    "\n",
    "    def backward(self, dLdA):    # Uses stored self.A\n",
    "        tmp=1-self.A**2\n",
    "        return dLdA*(1-self.A**2) # Your code: return dLdZ (?, b)"
   ],
   "execution_count": 47,
   "outputs": []
  },
  {
   "cell_type": "markdown",
   "metadata": {
    "id": "2FW7ocKRhcgY",
    "pycharm": {
     "name": "#%% md\n"
    }
   },
   "source": [
    "### ReLU: ###"
   ]
  },
  {
   "cell_type": "markdown",
   "source": [],
   "metadata": {
    "collapsed": false,
    "pycharm": {
     "name": "#%% md\n"
    }
   }
  },
  {
   "cell_type": "code",
   "metadata": {
    "id": "1fm2KsLUfqdp",
    "pycharm": {
     "name": "#%%\n"
    }
   },
   "source": [
    "class ReLU(Module):              # Layer activation\n",
    "    def forward(self, Z):\n",
    "        self.A = np.where(Z>0,Z,0)           # Your code: (?, b)\n",
    "        return self.A\n",
    "\n",
    "    def backward(self, dLdA):    # uses stored self.A\n",
    "        return dLdA*np.where(self.A>0,1,0)      # Your code: return dLdZ (?, b)"
   ],
   "execution_count": 48,
   "outputs": []
  },
  {
   "cell_type": "markdown",
   "metadata": {
    "id": "ZKtXuTQ0hSNO",
    "pycharm": {
     "name": "#%% md\n"
    }
   },
   "source": [
    "###SoftMax: ###\n",
    "For `SoftMax.class_fun()`, given the column vector of class probabilities for each point (computed by Softmax), return a vector of the classes (integers) with the highest probability for each point."
   ]
  },
  {
   "cell_type": "code",
   "metadata": {
    "id": "fqK-CJrnfn22",
    "pycharm": {
     "name": "#%%\n"
    }
   },
   "source": [
    "class SoftMax(Module):           # Output activation\n",
    "    def forward(self, Z):\n",
    "        ypred=np.exp(Z)\n",
    "        Ypred=ypred/np.sum(np.exp(Z),axis=0)\n",
    "        return Ypred             # Your code: (?, b)\n",
    "\n",
    "    def backward(self, dLdZ):    # Assume that dLdZ is passed in\n",
    "        return dLdZ\n",
    "\n",
    "    def class_fun(self, Ypred):  # Return class indices\n",
    "        return  np.array([np.amax(Ypred,axis=0)])                 # Your code: (1, b)\n"
   ],
   "execution_count": 49,
   "outputs": []
  },
  {
   "cell_type": "markdown",
   "metadata": {
    "id": "CZc7HnMSh4fn",
    "pycharm": {
     "name": "#%% md\n"
    }
   },
   "source": [
    "## Loss Functions:##\n",
    "Each loss module has a forward method that takes in a batch of predictions Ypred (from the previous layer) and labels Y and returns a scalar loss value.\n",
    "\n",
    "The NLL module has a backward method that returns dLdZ, the gradient with respect to the preactivation to SoftMax (note: not the activation!), since we are always pairing SoftMax activation with NLL loss"
   ]
  },
  {
   "cell_type": "markdown",
   "metadata": {
    "id": "l4uy0pHVhNd8",
    "pycharm": {
     "name": "#%% md\n"
    }
   },
   "source": [
    "### NLL: ###"
   ]
  },
  {
   "cell_type": "code",
   "metadata": {
    "id": "17Fb8mimflgb",
    "pycharm": {
     "name": "#%%\n"
    }
   },
   "source": [
    "class NLL(Module):       # Loss\n",
    "    def forward(self, Ypred, Y):\n",
    "        self.Ypred = Ypred\n",
    "        self.Y = Y\n",
    "        return -np.sum(Y*np.log(Ypred))    # Your code\n",
    "\n",
    "    def backward(self):  # Use stored self.Ypred, self.Y\n",
    "        return self.Ypred-self.Y      # Your code"
   ],
   "execution_count": 50,
   "outputs": []
  },
  {
   "cell_type": "markdown",
   "metadata": {
    "id": "y1EffzDFkqMX",
    "pycharm": {
     "name": "#%% md\n"
    }
   },
   "source": [
    "## Activation and Loss Test Cases: ##\n",
    "Run Test 1 and Test 2 below and compare your outputs with the expected outputs.\n"
   ]
  },
  {
   "cell_type": "code",
   "metadata": {
    "id": "9DJFzpahkvcD",
    "outputId": "f37fe4f7-9d34-474f-cac3-2183396e7bed",
    "colab": {
     "base_uri": "https://localhost:8080/",
     "height": 180
    },
    "pycharm": {
     "name": "#%%\n"
    }
   },
   "source": [
    "# TEST 1: sgd_test for Tanh activation and SoftMax output\n",
    "np.random.seed(0)\n",
    "sgd_test(Sequential([Linear(2,3), Tanh(), Linear(3,2), SoftMax()], NLL()), test_1_values)"
   ],
   "execution_count": 51,
   "outputs": [
    {
     "name": "stdout",
     "output_type": "stream",
     "text": [
      "linear_1.W: OK\n",
      "linear_1.W0: OK\n",
      "linear_2.W: OK\n",
      "linear_2.W0: OK\n",
      "z_1: OK\n",
      "a_1: OK\n",
      "z_2: OK\n",
      "a_2: OK\n",
      "loss: OK\n",
      "dloss: OK\n",
      "dL_dz2: OK\n",
      "dL_da1: OK\n",
      "dL_dz1: OK\n",
      "dL_dX: OK\n",
      "updated_linear_1.W: OK\n",
      "updated_linear_1.W0: OK\n",
      "updated_linear_2.W: OK\n",
      "updated_linear_2.W0: OK\n"
     ]
    }
   ]
  },
  {
   "cell_type": "code",
   "metadata": {
    "id": "Bd0dXg-Qk05_",
    "pycharm": {
     "name": "#%%\n"
    }
   },
   "source": [
    "# TEST 2: sgd_test for ReLU activation and SoftMax output\n",
    "np.random.seed(0)\n",
    "sgd_test(Sequential([Linear(2,3), ReLU(), Linear(3,2), SoftMax()], NLL()), test_2_values)"
   ],
   "execution_count": 52,
   "outputs": [
    {
     "name": "stdout",
     "output_type": "stream",
     "text": [
      "linear_1.W: OK\n",
      "linear_1.W0: OK\n",
      "linear_2.W: OK\n",
      "linear_2.W0: OK\n",
      "z_1: OK\n",
      "a_1: OK\n",
      "z_2: OK\n",
      "a_2: OK\n",
      "loss: OK\n",
      "dloss: OK\n",
      "dL_dz2: OK\n",
      "dL_da1: OK\n",
      "dL_dz1: OK\n",
      "dL_dX: OK\n",
      "updated_linear_1.W: OK\n",
      "updated_linear_1.W0: OK\n",
      "updated_linear_2.W: OK\n",
      "updated_linear_2.W0: OK\n"
     ]
    }
   ]
  },
  {
   "cell_type": "markdown",
   "metadata": {
    "id": "-l5JgBU2iBCZ",
    "pycharm": {
     "name": "#%% md\n"
    }
   },
   "source": [
    "## Neural Network: ##"
   ]
  },
  {
   "cell_type": "markdown",
   "metadata": {
    "id": "eXMGcdnXgiF3",
    "pycharm": {
     "name": "#%% md\n"
    }
   },
   "source": [
    "Implement SGD. Randomly pick a data point Xt, Yt by using np.random.randint to choose a random index into the data. Compute the predicted output Ypred for Xt with the forward method. Compute the loss for Ypred relative to Yt. Use the backward method to compute the gradients. Use the sgd_step method to change the weights. Repeat.\n",
    "\n",
    "We will (later) be generalizing SGD to operate on a \"mini-batch\" of data points instead of a single point. You should strive for an implementation of the forward, backward, and `class_fun` methods that works with batches of data. Note that when $b$ is mentioned as part of the shape of a matrix in the code, this $b$ refers to the number of points."
   ]
  },
  {
   "cell_type": "code",
   "metadata": {
    "id": "ejO15Vr7fhKB",
    "pycharm": {
     "name": "#%%\n"
    }
   },
   "source": [
    "class Sequential:\n",
    "    def __init__(self, modules, loss):            # List of modules, loss module\n",
    "        self.modules = modules\n",
    "        self.loss = loss\n",
    "\n",
    "    def sgd(self, X, Y, iters=100, lrate=0.005):  # Train\n",
    "        D, N = X.shape\n",
    "        for it in range(iters):\n",
    "            ran_num=np.random.randint(N) # Your code\n",
    "            ypred=self.forward(X[:,ran_num:ran_num+1])\n",
    "            Loss=self.loss.forward(ypred,Y[:,ran_num:ran_num+1])\n",
    "            self.backward(self.loss.backward())\n",
    "            self.sgd_step(lrate)\n",
    "            self.print_accuracy(it,X,Y,Loss)\n",
    "    def forward(self, Xt):                        # Compute Ypred\n",
    "        for m in self.modules: Xt = m.forward(Xt)\n",
    "        return Xt\n",
    "\n",
    "    def backward(self, delta):                    # Update dLdW and dLdW0\n",
    "        # Note reversed list of modules\n",
    "        for m in self.modules[::-1]: delta = m.backward(delta)\n",
    "\n",
    "    def sgd_step(self, lrate):                    # Gradient descent step\n",
    "        for m in self.modules: m.sgd_step(lrate)\n",
    "\n",
    "    def print_accuracy(self, it, X, Y, cur_loss, every=250):\n",
    "        # Utility method to print accuracy on full dataset, should\n",
    "        # improve over time when doing SGD. Also prints current loss,\n",
    "        # which should decrease over time. Call this on each iteration\n",
    "        # of SGD!\n",
    "        if it % every == 1:\n",
    "            cf = self.modules[-1].class_fun\n",
    "            acc = np.mean(cf(self.forward(X)) == cf(Y))\n",
    "            print('Iteration =', it, '\\tAcc =', acc, '\\tLoss =', cur_loss, flush=True)"
   ],
   "execution_count": 76,
   "outputs": []
  },
  {
   "cell_type": "markdown",
   "metadata": {
    "id": "HUojaXqphDjh",
    "pycharm": {
     "name": "#%% md\n"
    }
   },
   "source": [
    "## Neural Network / SGD Test Cases: ##\n",
    "Use Test 3 and Test 4 to help you debug."
   ]
  },
  {
   "cell_type": "code",
   "metadata": {
    "id": "wmupM8OScodw",
    "pycharm": {
     "name": "#%%\n"
    }
   },
   "source": [
    "# TEST 3: you should achieve 100% accuracy on the hard dataset (note that we provided plotting code)\n",
    "X, Y = hard()\n",
    "nn = Sequential([Linear(2, 10), ReLU(), Linear(10, 10), ReLU(), Linear(10,2), SoftMax()], NLL())\n",
    "disp.classify(X, Y, nn, it=100000)"
   ],
   "execution_count": 77,
   "outputs": [
    {
     "name": "stdout",
     "output_type": "stream",
     "text": [
      "Iteration = 1 \tAcc = 0.0 \tLoss = 0.5012547168991442\n",
      "Iteration = 251 \tAcc = 0.0 \tLoss = 0.050139361046683505\n",
      "Iteration = 501 \tAcc = 0.0 \tLoss = 0.18555998529789786\n",
      "Iteration = 751 \tAcc = 0.0 \tLoss = 0.1342745222535659\n",
      "Iteration = 1001 \tAcc = 0.0 \tLoss = 0.04863627591590879\n",
      "Iteration = 1251 \tAcc = 0.0 \tLoss = 0.023127883545820127\n",
      "Iteration = 1501 \tAcc = 0.0 \tLoss = 0.4578458785996737\n",
      "Iteration = 1751 \tAcc = 0.0 \tLoss = 0.014700598300892757\n",
      "Iteration = 2001 \tAcc = 0.0 \tLoss = 0.0001715961677330622\n",
      "Iteration = 2251 \tAcc = 0.0 \tLoss = 0.0007536539299220835\n",
      "Iteration = 2501 \tAcc = 0.0 \tLoss = 1.9585795236232344\n",
      "Iteration = 2751 \tAcc = 0.0 \tLoss = 0.21297222169905713\n",
      "Iteration = 3001 \tAcc = 0.0 \tLoss = 0.16306157386532505\n",
      "Iteration = 3251 \tAcc = 0.0 \tLoss = 2.7263678336155082e-05\n",
      "Iteration = 3501 \tAcc = 0.0 \tLoss = 0.0012822936666687932\n",
      "Iteration = 3751 \tAcc = 0.0 \tLoss = 2.2666048583113104e-05\n",
      "Iteration = 4001 \tAcc = 0.0 \tLoss = 0.00014869865621951387\n",
      "Iteration = 4251 \tAcc = 0.0 \tLoss = 0.003307517926971276\n",
      "Iteration = 4501 \tAcc = 0.0 \tLoss = 0.02717004622879144\n",
      "Iteration = 4751 \tAcc = 0.0 \tLoss = 0.41288455908184046\n",
      "Iteration = 5001 \tAcc = 0.0 \tLoss = 0.002906255064803456\n",
      "Iteration = 5251 \tAcc = 0.0 \tLoss = 0.0022410146912875475\n",
      "Iteration = 5501 \tAcc = 0.0 \tLoss = 0.030091711610107676\n",
      "Iteration = 5751 \tAcc = 0.0 \tLoss = 5.0668922859657206e-05\n",
      "Iteration = 6001 \tAcc = 0.0 \tLoss = 0.029850887040515688\n",
      "Iteration = 6251 \tAcc = 0.0 \tLoss = 0.0019515659143143698\n",
      "Iteration = 6501 \tAcc = 0.0 \tLoss = 2.290240513710405e-06\n",
      "Iteration = 6751 \tAcc = 0.0 \tLoss = 0.001719962914656628\n",
      "Iteration = 7001 \tAcc = 0.0 \tLoss = 1.5933845267731622e-06\n",
      "Iteration = 7251 \tAcc = 0.0 \tLoss = 9.915602112609109e-07\n",
      "Iteration = 7501 \tAcc = 0.0 \tLoss = 0.0013536414184688237\n",
      "Iteration = 7751 \tAcc = 0.0 \tLoss = 1.0372939006028947e-08\n",
      "Iteration = 8001 \tAcc = 0.0 \tLoss = 0.003200832744292077\n",
      "Iteration = 8251 \tAcc = 0.0 \tLoss = 0.0008256029140445311\n",
      "Iteration = 8501 \tAcc = 0.0 \tLoss = 4.047167832301125e-06\n",
      "Iteration = 8751 \tAcc = 0.0 \tLoss = 0.4038774489933872\n",
      "Iteration = 9001 \tAcc = 0.0 \tLoss = 0.3197849860451715\n",
      "Iteration = 9251 \tAcc = 0.0 \tLoss = 0.002530457055086274\n",
      "Iteration = 9501 \tAcc = 0.0 \tLoss = 9.814373762948529e-10\n",
      "Iteration = 9751 \tAcc = 0.0 \tLoss = 0.003042602356061788\n",
      "Iteration = 10001 \tAcc = 0.0 \tLoss = 0.2905941520220486\n",
      "Iteration = 10251 \tAcc = 0.0 \tLoss = 0.00045329597102135196\n",
      "Iteration = 10501 \tAcc = 0.0 \tLoss = 1.6669903263487143e-08\n",
      "Iteration = 10751 \tAcc = 0.0 \tLoss = 0.016540004128724136\n",
      "Iteration = 11001 \tAcc = 0.0 \tLoss = 0.20365010410508155\n",
      "Iteration = 11251 \tAcc = 0.0 \tLoss = 7.354854641274634e-09\n",
      "Iteration = 11501 \tAcc = 0.0 \tLoss = 8.443581213191009e-08\n",
      "Iteration = 11751 \tAcc = 0.0 \tLoss = 1.5198942883150863\n",
      "Iteration = 12001 \tAcc = 0.0 \tLoss = 0.09458964313828569\n",
      "Iteration = 12251 \tAcc = 0.0 \tLoss = 0.0032548629889990284\n",
      "Iteration = 12501 \tAcc = 0.0 \tLoss = 0.2178304757249334\n",
      "Iteration = 12751 \tAcc = 0.0 \tLoss = 1.3185107074748226\n",
      "Iteration = 13001 \tAcc = 0.0 \tLoss = 0.0015299317136862624\n",
      "Iteration = 13251 \tAcc = 0.0 \tLoss = 3.174459312508968e-08\n",
      "Iteration = 13501 \tAcc = 0.0 \tLoss = 0.0013144177341492616\n",
      "Iteration = 13751 \tAcc = 0.0 \tLoss = 2.56509591378276e-10\n",
      "Iteration = 14001 \tAcc = 0.0 \tLoss = 1.3119847738796866e-08\n",
      "Iteration = 14251 \tAcc = 0.0 \tLoss = 0.0938581524810182\n",
      "Iteration = 14501 \tAcc = 0.0 \tLoss = 1.1851291670442818\n",
      "Iteration = 14751 \tAcc = 0.0 \tLoss = 4.528651530156181e-05\n",
      "Iteration = 15001 \tAcc = 0.0 \tLoss = 2.434432325358938e-09\n",
      "Iteration = 15251 \tAcc = 0.0 \tLoss = 3.806040712066461e-09\n",
      "Iteration = 15501 \tAcc = 0.0 \tLoss = 0.11295367206673629\n",
      "Iteration = 15751 \tAcc = 0.0 \tLoss = 0.0019413875158071081\n",
      "Iteration = 16001 \tAcc = 0.0 \tLoss = 3.5278633418235326e-05\n",
      "Iteration = 16251 \tAcc = 0.0 \tLoss = 1.9778634287883382e-10\n",
      "Iteration = 16501 \tAcc = 0.0 \tLoss = 0.002375252882579443\n",
      "Iteration = 16751 \tAcc = 0.0 \tLoss = 0.20119057452406672\n",
      "Iteration = 17001 \tAcc = 0.0 \tLoss = 0.0007183951688104015\n",
      "Iteration = 17251 \tAcc = 0.0 \tLoss = 0.0015066970072485624\n",
      "Iteration = 17501 \tAcc = 0.0 \tLoss = 0.21061866681248972\n",
      "Iteration = 17751 \tAcc = 0.0 \tLoss = 0.20727864325313683\n",
      "Iteration = 18001 \tAcc = 0.0 \tLoss = 8.398017271716197e-06\n",
      "Iteration = 18251 \tAcc = 0.0 \tLoss = 1.136496574958673\n",
      "Iteration = 18501 \tAcc = 0.0 \tLoss = 1.1653490198332042\n",
      "Iteration = 18751 \tAcc = 0.0 \tLoss = 0.0006955876873011551\n",
      "Iteration = 19001 \tAcc = 0.0 \tLoss = 4.23228119226312e-11\n",
      "Iteration = 19251 \tAcc = 0.05 \tLoss = 0.004057114714068322\n",
      "Iteration = 19501 \tAcc = 0.05 \tLoss = 1.9887668198728787e-09\n",
      "Iteration = 19751 \tAcc = 0.05 \tLoss = 3.2519873513633906e-09\n",
      "Iteration = 20001 \tAcc = 0.05 \tLoss = 0.08635113816804814\n",
      "Iteration = 20251 \tAcc = 0.05 \tLoss = -0.0\n",
      "Iteration = 20501 \tAcc = 0.05 \tLoss = 0.000638052385399613\n",
      "Iteration = 20751 \tAcc = 0.05 \tLoss = 2.093841383448195e-06\n",
      "Iteration = 21001 \tAcc = 0.05 \tLoss = 0.0007902454704848009\n",
      "Iteration = 21251 \tAcc = 0.05 \tLoss = 1.186631506125508\n",
      "Iteration = 21501 \tAcc = 0.05 \tLoss = 0.3566885152904521\n",
      "Iteration = 21751 \tAcc = 0.05 \tLoss = 0.050508383941868594\n",
      "Iteration = 22001 \tAcc = 0.05 \tLoss = 0.04901322718656671\n",
      "Iteration = 22251 \tAcc = 0.05 \tLoss = 2.2204460492503136e-16\n",
      "Iteration = 22501 \tAcc = 0.05 \tLoss = 1.0680820936432112\n",
      "Iteration = 22751 \tAcc = 0.05 \tLoss = 1.2699211581147406e-06\n",
      "Iteration = 23001 \tAcc = 0.05 \tLoss = 1.2750842037920845e-06\n",
      "Iteration = 23251 \tAcc = 0.05 \tLoss = 0.0002541273196275224\n",
      "Iteration = 23501 \tAcc = 0.1 \tLoss = -0.0\n",
      "Iteration = 23751 \tAcc = 0.1 \tLoss = 0.00022714417117908296\n",
      "Iteration = 24001 \tAcc = 0.1 \tLoss = 2.087219286295316e-14\n",
      "Iteration = 24251 \tAcc = 0.1 \tLoss = 0.06477426175495807\n",
      "Iteration = 24501 \tAcc = 0.1 \tLoss = 0.0001409126799269396\n",
      "Iteration = 24751 \tAcc = 0.1 \tLoss = -0.0\n",
      "Iteration = 25001 \tAcc = 0.1 \tLoss = 0.7129144224393255\n",
      "Iteration = 25251 \tAcc = 0.1 \tLoss = 0.8468179169599112\n",
      "Iteration = 25501 \tAcc = 0.1 \tLoss = 0.8384965044431677\n",
      "Iteration = 25751 \tAcc = 0.1 \tLoss = 0.00013206992128986537\n",
      "Iteration = 26001 \tAcc = 0.1 \tLoss = 0.00018769038997417276\n",
      "Iteration = 26251 \tAcc = 0.1 \tLoss = 3.0465571510008043e-07\n",
      "Iteration = 26501 \tAcc = 0.1 \tLoss = 4.6629367034256685e-15\n",
      "Iteration = 26751 \tAcc = 0.1 \tLoss = 0.036125728588232216\n",
      "Iteration = 27001 \tAcc = 0.1 \tLoss = 3.298694650771706e-12\n",
      "Iteration = 27251 \tAcc = 0.1 \tLoss = 0.011762309965433449\n",
      "Iteration = 27501 \tAcc = 0.1 \tLoss = 2.009614696876015e-12\n",
      "Iteration = 27751 \tAcc = 0.1 \tLoss = -0.0\n",
      "Iteration = 28001 \tAcc = 0.1 \tLoss = 0.06202052462377936\n",
      "Iteration = 28251 \tAcc = 0.1 \tLoss = 1.8602202470149762e-05\n",
      "Iteration = 28501 \tAcc = 0.15 \tLoss = 1.3024936067508272e-07\n",
      "Iteration = 28751 \tAcc = 0.1 \tLoss = 8.661649641582892e-05\n",
      "Iteration = 29001 \tAcc = 0.15 \tLoss = 0.00436504263972479\n",
      "Iteration = 29251 \tAcc = 0.15 \tLoss = 0.03457810703263516\n",
      "Iteration = 29501 \tAcc = 0.15 \tLoss = 2.2204460492503136e-16\n",
      "Iteration = 29751 \tAcc = 0.15 \tLoss = -0.0\n",
      "Iteration = 30001 \tAcc = 0.15 \tLoss = 0.01931632222377939\n",
      "Iteration = 30251 \tAcc = 0.15 \tLoss = 8.317664314610956e-08\n",
      "Iteration = 30501 \tAcc = 0.15 \tLoss = -0.0\n",
      "Iteration = 30751 \tAcc = 0.2 \tLoss = 0.8703447586488088\n",
      "Iteration = 31001 \tAcc = 0.15 \tLoss = 1.0161040325786759e-07\n",
      "Iteration = 31251 \tAcc = 0.2 \tLoss = 4.5277757236030583e-08\n",
      "Iteration = 31501 \tAcc = 0.2 \tLoss = 0.0015155881815597\n",
      "Iteration = 31751 \tAcc = 0.2 \tLoss = -0.0\n",
      "Iteration = 32001 \tAcc = 0.2 \tLoss = -0.0\n",
      "Iteration = 32251 \tAcc = 0.2 \tLoss = 0.7626412801308805\n",
      "Iteration = 32501 \tAcc = 0.2 \tLoss = -0.0\n",
      "Iteration = 32751 \tAcc = 0.2 \tLoss = 0.002137614931246748\n",
      "Iteration = 33001 \tAcc = 0.2 \tLoss = -0.0\n",
      "Iteration = 33251 \tAcc = 0.2 \tLoss = -0.0\n",
      "Iteration = 33501 \tAcc = 0.2 \tLoss = 0.0023595635625361013\n",
      "Iteration = 33751 \tAcc = 0.2 \tLoss = 0.0013298017124049486\n",
      "Iteration = 34001 \tAcc = 0.2 \tLoss = 0.025755986855170887\n",
      "Iteration = 34251 \tAcc = 0.2 \tLoss = -0.0\n",
      "Iteration = 34501 \tAcc = 0.2 \tLoss = -0.0\n",
      "Iteration = 34751 \tAcc = 0.2 \tLoss = 0.015226890531050087\n",
      "Iteration = 35001 \tAcc = 0.2 \tLoss = 0.0018865005434950594\n",
      "Iteration = 35251 \tAcc = 0.2 \tLoss = 6.596993831731205e-06\n",
      "Iteration = 35501 \tAcc = 0.2 \tLoss = -0.0\n",
      "Iteration = 35751 \tAcc = 0.2 \tLoss = -0.0\n",
      "Iteration = 36001 \tAcc = 0.2 \tLoss = 0.02745535004252481\n",
      "Iteration = 36251 \tAcc = 0.2 \tLoss = 0.0012327139308956527\n",
      "Iteration = 36501 \tAcc = 0.2 \tLoss = 0.0015399820597491916\n",
      "Iteration = 36751 \tAcc = 0.2 \tLoss = 3.274215174854125e-08\n",
      "Iteration = 37001 \tAcc = 0.2 \tLoss = 0.002309149518481443\n",
      "Iteration = 37251 \tAcc = 0.2 \tLoss = 0.020483371962018753\n",
      "Iteration = 37501 \tAcc = 0.2 \tLoss = 0.013282880170734188\n",
      "Iteration = 37751 \tAcc = 0.2 \tLoss = -0.0\n",
      "Iteration = 38001 \tAcc = 0.2 \tLoss = 0.045600957698215934\n",
      "Iteration = 38251 \tAcc = 0.2 \tLoss = -0.0\n",
      "Iteration = 38501 \tAcc = 0.2 \tLoss = 0.016111308038713336\n",
      "Iteration = 38751 \tAcc = 0.2 \tLoss = -0.0\n",
      "Iteration = 39001 \tAcc = 0.2 \tLoss = 0.0012139097355755141\n",
      "Iteration = 39251 \tAcc = 0.2 \tLoss = 0.2413465201487364\n",
      "Iteration = 39501 \tAcc = 0.2 \tLoss = 0.001680145281397446\n",
      "Iteration = 39751 \tAcc = 0.2 \tLoss = 0.0009753177527727076\n",
      "Iteration = 40001 \tAcc = 0.2 \tLoss = 3.637534382262608e-06\n",
      "Iteration = 40251 \tAcc = 0.2 \tLoss = 0.019897886338937094\n",
      "Iteration = 40501 \tAcc = 0.2 \tLoss = -0.0\n",
      "Iteration = 40751 \tAcc = 0.2 \tLoss = 0.0010977110157756166\n",
      "Iteration = 41001 \tAcc = 0.2 \tLoss = 6.743741499500409e-06\n",
      "Iteration = 41251 \tAcc = 0.2 \tLoss = 0.8380996208246284\n",
      "Iteration = 41501 \tAcc = 0.2 \tLoss = 0.2552876011402583\n",
      "Iteration = 41751 \tAcc = 0.2 \tLoss = -0.0\n",
      "Iteration = 42001 \tAcc = 0.2 \tLoss = -0.0\n",
      "Iteration = 42251 \tAcc = 0.2 \tLoss = 0.5197514413763372\n",
      "Iteration = 42501 \tAcc = 0.25 \tLoss = 0.011163221212467225\n",
      "Iteration = 42751 \tAcc = 0.2 \tLoss = 2.024172107091653e-06\n",
      "Iteration = 43001 \tAcc = 0.25 \tLoss = 8.931049051333182e-09\n",
      "Iteration = 43251 \tAcc = 0.25 \tLoss = 0.5809358763745519\n",
      "Iteration = 43501 \tAcc = 0.25 \tLoss = -0.0\n",
      "Iteration = 43751 \tAcc = 0.25 \tLoss = 4.771204109857063e-09\n",
      "Iteration = 44001 \tAcc = 0.25 \tLoss = 0.0014839645896912064\n",
      "Iteration = 44251 \tAcc = 0.25 \tLoss = 0.0021166364247842346\n",
      "Iteration = 44501 \tAcc = 0.25 \tLoss = 2.2997717090488604e-09\n",
      "Iteration = 44751 \tAcc = 0.25 \tLoss = 0.010085687344711445\n",
      "Iteration = 45001 \tAcc = 0.25 \tLoss = 0.009208236302247808\n",
      "Iteration = 45251 \tAcc = 0.25 \tLoss = 1.7004966040782672e-05\n",
      "Iteration = 45501 \tAcc = 0.25 \tLoss = -0.0\n",
      "Iteration = 45751 \tAcc = 0.25 \tLoss = 0.004815560086312801\n",
      "Iteration = 46001 \tAcc = 0.25 \tLoss = 1.8718192569021956e-09\n",
      "Iteration = 46251 \tAcc = 0.25 \tLoss = 0.0019482635296678332\n",
      "Iteration = 46501 \tAcc = 0.25 \tLoss = 0.0021139732102301773\n",
      "Iteration = 46751 \tAcc = 0.25 \tLoss = -0.0\n",
      "Iteration = 47001 \tAcc = 0.25 \tLoss = 0.26588937761080694\n",
      "Iteration = 47251 \tAcc = 0.25 \tLoss = 1.3059152961146202e-05\n",
      "Iteration = 47501 \tAcc = 0.25 \tLoss = 0.004223034740625738\n",
      "Iteration = 47751 \tAcc = 0.25 \tLoss = -0.0\n",
      "Iteration = 48001 \tAcc = 0.25 \tLoss = 0.0011191852036352907\n",
      "Iteration = 48251 \tAcc = 0.25 \tLoss = -0.0\n",
      "Iteration = 48501 \tAcc = 0.25 \tLoss = 0.0012057703836764627\n",
      "Iteration = 48751 \tAcc = 0.25 \tLoss = 0.01019069968789173\n",
      "Iteration = 49001 \tAcc = 0.25 \tLoss = 0.009729696802956721\n",
      "Iteration = 49251 \tAcc = 0.25 \tLoss = 2.9672596646049294e-09\n",
      "Iteration = 49501 \tAcc = 0.25 \tLoss = -0.0\n",
      "Iteration = 49751 \tAcc = 0.25 \tLoss = 0.0001939096809030507\n",
      "Iteration = 50001 \tAcc = 0.25 \tLoss = 0.007611057199033362\n",
      "Iteration = 50251 \tAcc = 0.25 \tLoss = 8.8798657355573e-10\n",
      "Iteration = 50501 \tAcc = 0.25 \tLoss = 0.006234518337208872\n",
      "Iteration = 50751 \tAcc = 0.25 \tLoss = 1.0042461336473765\n",
      "Iteration = 51001 \tAcc = 0.25 \tLoss = 0.011339389796674083\n",
      "Iteration = 51251 \tAcc = 0.25 \tLoss = 0.2595730339556514\n",
      "Iteration = 51501 \tAcc = 0.25 \tLoss = -0.0\n",
      "Iteration = 51751 \tAcc = 0.25 \tLoss = 6.452219871583175e-10\n",
      "Iteration = 52001 \tAcc = 0.25 \tLoss = 0.0021527058830066548\n",
      "Iteration = 52251 \tAcc = 0.25 \tLoss = 1.756251779781564e-06\n",
      "Iteration = 52501 \tAcc = 0.25 \tLoss = 8.203263627305093e-10\n",
      "Iteration = 52751 \tAcc = 0.25 \tLoss = 0.18765543397672743\n",
      "Iteration = 53001 \tAcc = 0.25 \tLoss = 0.0018674322932242507\n",
      "Iteration = 53251 \tAcc = 0.25 \tLoss = -0.0\n",
      "Iteration = 53501 \tAcc = 0.25 \tLoss = 8.442304715114471e-07\n",
      "Iteration = 53751 \tAcc = 0.25 \tLoss = -0.0\n",
      "Iteration = 54001 \tAcc = 0.25 \tLoss = 1.6473917781379782e-06\n",
      "Iteration = 54251 \tAcc = 0.25 \tLoss = 0.0009069265151209334\n",
      "Iteration = 54501 \tAcc = 0.25 \tLoss = 0.0011143451729384714\n",
      "Iteration = 54751 \tAcc = 0.25 \tLoss = 1.1449021835386526e-06\n",
      "Iteration = 55001 \tAcc = 0.25 \tLoss = 0.34792486652253474\n",
      "Iteration = 55251 \tAcc = 0.25 \tLoss = -0.0\n",
      "Iteration = 55501 \tAcc = 0.25 \tLoss = 2.749989125683896e-10\n",
      "Iteration = 55751 \tAcc = 0.25 \tLoss = 0.14452866985349527\n",
      "Iteration = 56001 \tAcc = 0.25 \tLoss = -0.0\n",
      "Iteration = 56251 \tAcc = 0.25 \tLoss = 9.754383066921208e-07\n",
      "Iteration = 56501 \tAcc = 0.25 \tLoss = 2.1925598782361247e-06\n",
      "Iteration = 56751 \tAcc = 0.25 \tLoss = 3.494922130087387e-10\n",
      "Iteration = 57001 \tAcc = 0.25 \tLoss = 6.400866615186839e-06\n",
      "Iteration = 57251 \tAcc = 0.25 \tLoss = 7.110865232503837e-10\n",
      "Iteration = 57501 \tAcc = 0.25 \tLoss = 2.0634893795798557e-10\n",
      "Iteration = 57751 \tAcc = 0.25 \tLoss = 7.051519370903499e-10\n",
      "Iteration = 58001 \tAcc = 0.25 \tLoss = 0.33543339484456236\n",
      "Iteration = 58251 \tAcc = 0.25 \tLoss = -0.0\n",
      "Iteration = 58501 \tAcc = 0.25 \tLoss = 0.002580326812703586\n",
      "Iteration = 58751 \tAcc = 0.25 \tLoss = 2.751234795917868e-10\n",
      "Iteration = 59001 \tAcc = 0.25 \tLoss = 2.5068258583205317e-10\n",
      "Iteration = 59251 \tAcc = 0.25 \tLoss = 5.04503772219142e-10\n",
      "Iteration = 59501 \tAcc = 0.25 \tLoss = 0.0018302006145321094\n",
      "Iteration = 59751 \tAcc = 0.25 \tLoss = -0.0\n",
      "Iteration = 60001 \tAcc = 0.25 \tLoss = 0.001833494760866646\n",
      "Iteration = 60251 \tAcc = 0.25 \tLoss = 0.0050529146280428715\n",
      "Iteration = 60501 \tAcc = 0.25 \tLoss = 0.005323749674713262\n",
      "Iteration = 60751 \tAcc = 0.25 \tLoss = 1.9213797221764966e-10\n",
      "Iteration = 61001 \tAcc = 0.25 \tLoss = 0.008883126780361421\n",
      "Iteration = 61251 \tAcc = 0.25 \tLoss = 0.00604977226914436\n",
      "Iteration = 61501 \tAcc = 0.25 \tLoss = -0.0\n",
      "Iteration = 61751 \tAcc = 0.25 \tLoss = 0.006509720003134859\n",
      "Iteration = 62001 \tAcc = 0.25 \tLoss = 1.6070811349647884e-10\n",
      "Iteration = 62251 \tAcc = 0.25 \tLoss = 0.0008756510926920069\n",
      "Iteration = 62501 \tAcc = 0.25 \tLoss = 0.3709928302211277\n",
      "Iteration = 62751 \tAcc = 0.25 \tLoss = -0.0\n",
      "Iteration = 63001 \tAcc = 0.25 \tLoss = 6.31524148657371e-07\n",
      "Iteration = 63251 \tAcc = 0.25 \tLoss = 3.401523773852511e-07\n",
      "Iteration = 63501 \tAcc = 0.25 \tLoss = 0.003020440621343141\n",
      "Iteration = 63751 \tAcc = 0.25 \tLoss = 1.1270284706124172e-10\n",
      "Iteration = 64001 \tAcc = 0.25 \tLoss = -0.0\n",
      "Iteration = 64251 \tAcc = 0.25 \tLoss = 0.0011711753854683332\n",
      "Iteration = 64501 \tAcc = 0.25 \tLoss = 7.550070595620783e-07\n",
      "Iteration = 64751 \tAcc = 0.25 \tLoss = 5.919154055964203e-11\n",
      "Iteration = 65001 \tAcc = 0.25 \tLoss = 0.0021191064458460315\n",
      "Iteration = 65251 \tAcc = 0.25 \tLoss = 3.235628902638009e-06\n",
      "Iteration = 65501 \tAcc = 0.25 \tLoss = 0.004731807851505544\n",
      "Iteration = 65751 \tAcc = 0.25 \tLoss = -0.0\n",
      "Iteration = 66001 \tAcc = 0.25 \tLoss = 0.003124642852428191\n",
      "Iteration = 66251 \tAcc = 0.25 \tLoss = 0.12916259521960233\n",
      "Iteration = 66501 \tAcc = 0.25 \tLoss = 0.31831596357589365\n",
      "Iteration = 66751 \tAcc = 0.25 \tLoss = 1.7973156298206413e-10\n",
      "Iteration = 67001 \tAcc = 0.25 \tLoss = -0.0\n",
      "Iteration = 67251 \tAcc = 0.25 \tLoss = 0.0007021770531432353\n",
      "Iteration = 67501 \tAcc = 0.25 \tLoss = -0.0\n",
      "Iteration = 67751 \tAcc = 0.25 \tLoss = -0.0\n",
      "Iteration = 68001 \tAcc = 0.25 \tLoss = -0.0\n",
      "Iteration = 68251 \tAcc = 0.25 \tLoss = -0.0\n",
      "Iteration = 68501 \tAcc = 0.25 \tLoss = 5.7915783281970575e-11\n",
      "Iteration = 68751 \tAcc = 0.25 \tLoss = 0.0019051252298469509\n",
      "Iteration = 69001 \tAcc = 0.25 \tLoss = 0.1653919519436001\n",
      "Iteration = 69251 \tAcc = 0.25 \tLoss = 0.09461740676787359\n",
      "Iteration = 69501 \tAcc = 0.25 \tLoss = 0.001801863368137322\n",
      "Iteration = 69751 \tAcc = 0.25 \tLoss = 3.259903458338997e-11\n",
      "Iteration = 70001 \tAcc = 0.25 \tLoss = 4.481637283604795e-11\n",
      "Iteration = 70251 \tAcc = 0.25 \tLoss = 3.093048039962782e-11\n",
      "Iteration = 70501 \tAcc = 0.25 \tLoss = -0.0\n",
      "Iteration = 70751 \tAcc = 0.25 \tLoss = 0.0030224847633646035\n",
      "Iteration = 71001 \tAcc = 0.25 \tLoss = 1.1136092049122695e-10\n",
      "Iteration = 71251 \tAcc = 0.25 \tLoss = 0.005148761962444715\n",
      "Iteration = 71501 \tAcc = 0.25 \tLoss = 0.0022624533367127833\n",
      "Iteration = 71751 \tAcc = 0.25 \tLoss = 2.594435777359199e-11\n",
      "Iteration = 72001 \tAcc = 0.25 \tLoss = 1.3134715667289383e-07\n",
      "Iteration = 72251 \tAcc = 0.25 \tLoss = 0.13739824838808712\n",
      "Iteration = 72501 \tAcc = 0.25 \tLoss = 1.5331943657608637e-07\n",
      "Iteration = 72751 \tAcc = 0.25 \tLoss = -0.0\n",
      "Iteration = 73001 \tAcc = 0.25 \tLoss = 0.0016093351135030743\n",
      "Iteration = 73251 \tAcc = 0.25 \tLoss = 0.24960670308112978\n",
      "Iteration = 73501 \tAcc = 0.25 \tLoss = 0.0017841639865112694\n",
      "Iteration = 73751 \tAcc = 0.25 \tLoss = -0.0\n",
      "Iteration = 74001 \tAcc = 0.25 \tLoss = -0.0\n",
      "Iteration = 74251 \tAcc = 0.25 \tLoss = 1.7976221779045791e-06\n",
      "Iteration = 74501 \tAcc = 0.25 \tLoss = 3.2573417172934787e-07\n",
      "Iteration = 74751 \tAcc = 0.25 \tLoss = -0.0\n",
      "Iteration = 75001 \tAcc = 0.25 \tLoss = 7.292544346437232e-11\n",
      "Iteration = 75251 \tAcc = 0.25 \tLoss = 0.0004980788997327762\n",
      "Iteration = 75501 \tAcc = 0.25 \tLoss = 0.001252966788805415\n",
      "Iteration = 75751 \tAcc = 0.25 \tLoss = 0.0016078352338679516\n",
      "Iteration = 76001 \tAcc = 0.25 \tLoss = -0.0\n",
      "Iteration = 76251 \tAcc = 0.25 \tLoss = 0.24548375442741469\n",
      "Iteration = 76501 \tAcc = 0.25 \tLoss = 0.06811102162572935\n",
      "Iteration = 76751 \tAcc = 0.25 \tLoss = 0.0005453639083143606\n",
      "Iteration = 77001 \tAcc = 0.25 \tLoss = 0.00278747877563834\n",
      "Iteration = 77251 \tAcc = 0.25 \tLoss = -0.0\n",
      "Iteration = 77501 \tAcc = 0.25 \tLoss = -0.0\n",
      "Iteration = 77751 \tAcc = 0.25 \tLoss = 8.110774703271363e-08\n",
      "Iteration = 78001 \tAcc = 0.25 \tLoss = 8.866233030011943e-08\n",
      "Iteration = 78251 \tAcc = 0.25 \tLoss = 1.8391283732926278e-07\n",
      "Iteration = 78501 \tAcc = 0.25 \tLoss = 0.0005482024210890068\n",
      "Iteration = 78751 \tAcc = 0.25 \tLoss = 1.206818806231107e-06\n",
      "Iteration = 79001 \tAcc = 0.25 \tLoss = 8.082350626764542e-08\n",
      "Iteration = 79251 \tAcc = 0.25 \tLoss = 0.001773029220548023\n",
      "Iteration = 79501 \tAcc = 0.25 \tLoss = 8.360028397055193e-08\n",
      "Iteration = 79751 \tAcc = 0.25 \tLoss = 1.0665468508420906e-11\n",
      "Iteration = 80001 \tAcc = 0.25 \tLoss = 0.004015678025273937\n",
      "Iteration = 80251 \tAcc = 0.25 \tLoss = 0.0015977259028356792\n",
      "Iteration = 80501 \tAcc = 0.25 \tLoss = 0.003185972246701429\n",
      "Iteration = 80751 \tAcc = 0.25 \tLoss = 8.918310534551188e-12\n",
      "Iteration = 81001 \tAcc = 0.25 \tLoss = 0.0004681201905991855\n",
      "Iteration = 81251 \tAcc = 0.25 \tLoss = 4.213351889692462e-11\n",
      "Iteration = 81501 \tAcc = 0.25 \tLoss = 0.0010661719853508078\n",
      "Iteration = 81751 \tAcc = 0.25 \tLoss = 8.372635917943206e-12\n",
      "Iteration = 82001 \tAcc = 0.25 \tLoss = 1.2739665661618227e-06\n",
      "Iteration = 82251 \tAcc = 0.25 \tLoss = 3.917055568868455e-11\n",
      "Iteration = 82501 \tAcc = 0.25 \tLoss = 0.0014805681299134602\n",
      "Iteration = 82751 \tAcc = 0.25 \tLoss = 0.0015200570099321309\n",
      "Iteration = 83001 \tAcc = 0.25 \tLoss = -0.0\n",
      "Iteration = 83251 \tAcc = 0.25 \tLoss = 0.0004792824283848649\n",
      "Iteration = 83501 \tAcc = 0.25 \tLoss = -0.0\n",
      "Iteration = 83751 \tAcc = 0.25 \tLoss = -0.0\n",
      "Iteration = 84001 \tAcc = 0.25 \tLoss = 0.08033138031263096\n",
      "Iteration = 84251 \tAcc = 0.25 \tLoss = 1.0012757904017398e-06\n",
      "Iteration = 84501 \tAcc = 0.25 \tLoss = 0.031356559054951084\n",
      "Iteration = 84751 \tAcc = 0.25 \tLoss = -0.0\n",
      "Iteration = 85001 \tAcc = 0.25 \tLoss = 1.499590522064576e-07\n",
      "Iteration = 85251 \tAcc = 0.25 \tLoss = 0.0426990877274588\n",
      "Iteration = 85501 \tAcc = 0.25 \tLoss = 0.0015730691599223341\n",
      "Iteration = 85751 \tAcc = 0.25 \tLoss = 5.6721581375107745e-08\n",
      "Iteration = 86001 \tAcc = 0.25 \tLoss = 0.001163990483496646\n",
      "Iteration = 86251 \tAcc = 0.25 \tLoss = -0.0\n",
      "Iteration = 86501 \tAcc = 0.25 \tLoss = -0.0\n",
      "Iteration = 86751 \tAcc = 0.25 \tLoss = 2.758415718100723e-11\n",
      "Iteration = 87001 \tAcc = 0.25 \tLoss = 5.648814749308751e-12\n",
      "Iteration = 87251 \tAcc = 0.25 \tLoss = 0.0014712784329551094\n",
      "Iteration = 87501 \tAcc = 0.25 \tLoss = 4.477812809767565e-08\n",
      "Iteration = 87751 \tAcc = 0.25 \tLoss = 2.696165513108293e-11\n",
      "Iteration = 88001 \tAcc = 0.25 \tLoss = -0.0\n",
      "Iteration = 88251 \tAcc = 0.25 \tLoss = 0.0031473890047146167\n",
      "Iteration = 88501 \tAcc = 0.25 \tLoss = 8.30602253646514e-12\n",
      "Iteration = 88751 \tAcc = 0.25 \tLoss = -0.0\n",
      "Iteration = 89001 \tAcc = 0.25 \tLoss = 0.05529347911376066\n",
      "Iteration = 89251 \tAcc = 0.25 \tLoss = 0.000915292296067545\n",
      "Iteration = 89501 \tAcc = 0.25 \tLoss = -0.0\n",
      "Iteration = 89751 \tAcc = 0.25 \tLoss = 4.8745452119310925e-12\n",
      "Iteration = 90001 \tAcc = 0.25 \tLoss = -0.0\n",
      "Iteration = 90251 \tAcc = 0.25 \tLoss = -0.0\n",
      "Iteration = 90501 \tAcc = 0.25 \tLoss = 9.050895887129472e-08\n",
      "Iteration = 90751 \tAcc = 0.25 \tLoss = -0.0\n",
      "Iteration = 91001 \tAcc = 0.25 \tLoss = 2.3413382344291558e-11\n",
      "Iteration = 91251 \tAcc = 0.25 \tLoss = 0.0005725115834672635\n",
      "Iteration = 91501 \tAcc = 0.25 \tLoss = 0.0027046111740545173\n",
      "Iteration = 91751 \tAcc = 0.25 \tLoss = 0.06624796733153429\n",
      "Iteration = 92001 \tAcc = 0.25 \tLoss = 0.0006547072927208046\n",
      "Iteration = 92251 \tAcc = 0.25 \tLoss = -0.0\n",
      "Iteration = 92501 \tAcc = 0.25 \tLoss = 3.259893030915022e-08\n",
      "Iteration = 92751 \tAcc = 0.25 \tLoss = 2.0485391161383364e-11\n",
      "Iteration = 93001 \tAcc = 0.25 \tLoss = -0.0\n",
      "Iteration = 93251 \tAcc = 0.25 \tLoss = 0.00037484075908513604\n",
      "Iteration = 93501 \tAcc = 0.25 \tLoss = 0.029315877969289885\n",
      "Iteration = 93751 \tAcc = 0.25 \tLoss = 3.771316592356306e-12\n",
      "Iteration = 94001 \tAcc = 0.25 \tLoss = -0.0\n",
      "Iteration = 94251 \tAcc = 0.25 \tLoss = -0.0\n",
      "Iteration = 94501 \tAcc = 0.25 \tLoss = 0.0013858338296287378\n",
      "Iteration = 94751 \tAcc = 0.25 \tLoss = 0.002734908932733141\n",
      "Iteration = 95001 \tAcc = 0.25 \tLoss = 2.981365032662013e-08\n",
      "Iteration = 95251 \tAcc = 0.25 \tLoss = -0.0\n",
      "Iteration = 95501 \tAcc = 0.25 \tLoss = 2.8810929279898957e-08\n",
      "Iteration = 95751 \tAcc = 0.25 \tLoss = 0.0023685962810047964\n",
      "Iteration = 96001 \tAcc = 0.25 \tLoss = 2.5547540964887004e-08\n",
      "Iteration = 96251 \tAcc = 0.25 \tLoss = 2.780461177761726e-08\n",
      "Iteration = 96501 \tAcc = 0.25 \tLoss = -0.0\n",
      "Iteration = 96751 \tAcc = 0.25 \tLoss = 2.684286740051406e-08\n",
      "Iteration = 97001 \tAcc = 0.25 \tLoss = 3.1828983893029266e-12\n",
      "Iteration = 97251 \tAcc = 0.25 \tLoss = -0.0\n",
      "Iteration = 97501 \tAcc = 0.25 \tLoss = 2.276997982775144e-08\n",
      "Iteration = 97751 \tAcc = 0.25 \tLoss = 2.3915210431521733e-08\n",
      "Iteration = 98001 \tAcc = 0.25 \tLoss = -0.0\n",
      "Iteration = 98251 \tAcc = 0.25 \tLoss = 4.853450974463112e-12\n",
      "Iteration = 98501 \tAcc = 0.25 \tLoss = 0.0004398213081317378\n",
      "Iteration = 98751 \tAcc = 0.25 \tLoss = 1.557798334784676e-11\n",
      "Iteration = 99001 \tAcc = 0.25 \tLoss = -0.0\n",
      "Iteration = 99251 \tAcc = 0.25 \tLoss = 5.45353228289077e-07\n",
      "Iteration = 99501 \tAcc = 0.25 \tLoss = 0.04580275826163122\n",
      "Iteration = 99751 \tAcc = 0.25 \tLoss = -0.0\n",
      "-3.46493986 -3.41956036 3.39710997 2.0597278\n"
     ]
    },
    {
     "data": {
      "text/plain": "<Figure size 640x480 with 2 Axes>",
      "image/png": "[encoded data removed]"
     },
     "metadata": {},
     "output_type": "display_data"
    },
    {
     "data": {
      "text/plain": "<__main__.Sequential at 0x2d835083430>"
     },
     "execution_count": 77,
     "metadata": {},
     "output_type": "execute_result"
    }
   ]
  },
  {
   "cell_type": "code",
   "metadata": {
    "id": "MaWfgC7Qe3ar",
    "pycharm": {
     "name": "#%%\n"
    }
   },
   "source": [
    "# TEST 4: try calling these methods that train with a simple dataset\n",
    "def nn_tanh_test():\n",
    "    np.random.seed(0)\n",
    "    nn = Sequential([Linear(2, 3), Tanh(), Linear(3, 2), SoftMax()], NLL())\n",
    "    X, Y = super_simple_separable()\n",
    "    nn.sgd(X, Y, iters=1, lrate=0.005)\n",
    "    return [np.vstack([nn.modules[0].W, nn.modules[0].W0.T]).tolist(),\n",
    "            np.vstack([nn.modules[2].W, nn.modules[2].W0.T]).tolist()]\n",
    "\n",
    "\n",
    "def nn_relu_test():\n",
    "    np.random.seed(0)\n",
    "    nn = Sequential([Linear(2, 3), ReLU(), Linear(3, 2), SoftMax()], NLL())\n",
    "    X, Y = super_simple_separable()\n",
    "    nn.sgd(X, Y, iters=2, lrate=0.005)\n",
    "    return [np.vstack([nn.modules[0].W, nn.modules[0].W0.T]).tolist(),\n",
    "            np.vstack([nn.modules[2].W, nn.modules[2].W0.T]).tolist()]\n",
    "\n",
    "\n",
    "def nn_pred_test():\n",
    "    np.random.seed(0)\n",
    "    nn = Sequential([Linear(2, 3), ReLU(), Linear(3, 2), SoftMax()], NLL())\n",
    "    X, Y = super_simple_separable()\n",
    "    nn.sgd(X, Y, iters=1, lrate=0.005)\n",
    "    Ypred = nn.forward(X)\n",
    "    return nn.modules[-1].class_fun(Ypred).tolist(), [nn.loss.forward(Ypred, Y)]\n"
   ],
   "execution_count": 59,
   "outputs": []
  },
  {
   "cell_type": "code",
   "metadata": {
    "id": "_dx-zM2y3R0z",
    "pycharm": {
     "name": "#%%\n"
    }
   },
   "source": [
    "nn_tanh_test()\n",
    "\n",
    "# Expected output:\n",
    "# '''\n",
    "# [[[1.2473733761848262, 0.2829538808226157, 0.6924193292712828],\n",
    "#   [1.5845507770278007, 1.320562932207846, -0.6901721567010647],\n",
    "#   [-8.47337764291184e-12, 2.6227368810847106e-09, 0.00017353185263155828]],\n",
    "#  [[0.544808855557535, -0.08366117689965663],\n",
    "#   [-0.06331837550937104, 0.24078409926389266],\n",
    "#   [0.08677202043839037, 0.8360167748667923],\n",
    "#   [-0.0037249480614718, 0.0037249480614718]]]\n",
    "# '''"
   ],
   "execution_count": 60,
   "outputs": [
    {
     "data": {
      "text/plain": "[[[1.2473733761848262, 0.2829538808226157, 0.6924193292712828],\n  [1.5845507770278007, 1.320562932207846, -0.6901721567010647],\n  [-8.47337764291184e-12, 2.6227368810847102e-09, 0.00017353185263155828]],\n [[0.544808855557535, -0.08366117689965663],\n  [-0.06331837550937103, 0.24078409926389266],\n  [0.08677202043839037, 0.8360167748667923],\n  [-0.0037249480614717995, 0.0037249480614718]]]"
     },
     "execution_count": 60,
     "metadata": {},
     "output_type": "execute_result"
    }
   ]
  },
  {
   "cell_type": "code",
   "metadata": {
    "id": "WmYT9IWk3TQL",
    "pycharm": {
     "name": "#%%\n"
    }
   },
   "source": [
    "nn_relu_test()\n",
    "\n",
    "# Expected output:\n",
    "# '''\n",
    "# [[[1.2421914999646917, 0.2851239946607419, 0.6905003767490479],\n",
    "#   [1.5695659964519526, 1.3273884281993562, -0.6920877418422037],\n",
    "#   [-0.0027754917572235106, 0.001212351486908601, -0.0005239629389906042]],\n",
    "#  [[0.501769700845158, -0.040622022187279644],\n",
    "#   [-0.09260786974986723, 0.27007359350438886],\n",
    "#   [0.08364438851530624, 0.8391444067898763],\n",
    "#   [-0.004252310922204504, 0.004252310922204505]]]\n",
    "# '''"
   ],
   "execution_count": 61,
   "outputs": [
    {
     "data": {
      "text/plain": "[[[1.2421914999646917, 0.2851239946607419, 0.6905003767490479],\n  [1.5695659964519526, 1.3273884281993562, -0.6920877418422037],\n  [-0.002775491757223511, 0.001212351486908601, -0.0005239629389906042]],\n [[0.501769700845158, -0.04062202218727964],\n  [-0.09260786974986725, 0.27007359350438886],\n  [0.08364438851530624, 0.8391444067898763],\n  [-0.004252310922204505, 0.004252310922204505]]]"
     },
     "execution_count": 61,
     "metadata": {},
     "output_type": "execute_result"
    }
   ]
  },
  {
   "cell_type": "code",
   "metadata": {
    "id": "uo_woDFh3a2v",
    "outputId": "dc8b59c0-3ae0-447c-ac5c-4a25d010fc46",
    "colab": {
     "base_uri": "https://localhost:8080/",
     "height": 51
    },
    "pycharm": {
     "name": "#%%\n"
    }
   },
   "source": [
    "nn_pred_test()\n",
    "\n",
    "# Expected output:\n",
    "# '''\n",
    "# ([0, 0, 0, 0], [8.56575061835767])\n",
    "# '''"
   ],
   "execution_count": 62,
   "outputs": [
    {
     "data": {
      "text/plain": "([[0.9448095487370077,\n   0.8614700508946521,\n   0.9959576192817937,\n   0.9912893277461089]],\n [8.565750618357669])"
     },
     "execution_count": 62,
     "metadata": {},
     "output_type": "execute_result"
    }
   ]
  }
 ]
}